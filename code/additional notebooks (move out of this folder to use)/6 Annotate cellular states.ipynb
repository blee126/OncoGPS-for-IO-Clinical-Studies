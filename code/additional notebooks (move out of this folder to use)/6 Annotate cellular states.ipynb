{
 "cells": [
  {
   "cell_type": "markdown",
   "metadata": {},
   "source": [
    "# Chapter 6. Annotate cellular states\n",
    "\n",
    "<br>\n",
    "<div>\n",
    "    <img src=\"../media/method_chap5.png\" width=2144 height=1041>\n",
    "</div>\n",
    "\n",
    "### Analysis overview\n",
    "In this chapter we perform a detailed analysis and annotation of the KRAS mutant oncogenic states (S1-S4) in order to assign a biological interpretation to each component. \n",
    "\n",
    "This analysis is very similar to the one we performed in chapter 4. The main difference is that in this chapter we will use as target profiles binary variables representing the membership of samples in each of the oncogenic states, rather than the transcriptional component profiles.\n",
    "\n",
    "As in [chapter 4](4 Annotate transcriptional components.ipynb) the genomic features include the following (see [chapter 1](1 Set up data) for sources):\n",
    "\n",
    "1. **Mutations and Copy Number Alterations (CNA).** CCLE mutation and copy number datasets ([*Barretina et al. 2012*](https://www.ncbi.nlm.nih.gov/pmc/articles/PMC3320027/)).\n",
    "2.\t **Gene expression.**  CCLE RNA Seq dataset ([*Barretina et al. 2012*](https://www.ncbi.nlm.nih.gov/pmc/articles/PMC3320027/)).\n",
    "3.\t  **Pathway expression** (single sample GSEA of MSigDB gene sets) MSigDB v5.1 sub-collections c2, c5, c6 and h (Liberzon et al. 2011; [*Liberzon et al. 2016. Cell Systems, 1(6), pp.417–425.*](https://www.ncbi.nlm.nih.gov/pubmed/26771021). and a few additional gene sets (see supplementary information in the article).\n",
    "4.\t**Transcription factors and master regulators expression** (single sample GSEA of gene sets) MSigDB v5.1, ([*Liberzon et al. 2011*](https://www.ncbi.nlm.nih.gov/pubmed/21546393)), sub-collection c3 and 1,598 [IPA gene sets](http://www.ingenuity.com).\n",
    "5.\t **Protein expression.** CCLE Reverse Phased Protein Array (RPPA) dataset ([*Barretina et al. 2012*](https://www.ncbi.nlm.nih.gov/pmc/articles/PMC3320027/)).\n",
    "6.\t **Drug sensitivity.** CCLE dataset ([*Barretina et al. 2012*](https://www.ncbi.nlm.nih.gov/pmc/articles/PMC3320027/))\n",
    "7.\t**Gene dependency.** RNAi Achilles dataset, ([*Cowley et al. 2014*](https://www.ncbi.nlm.nih.gov/pmc/articles/PMC4432652/)).\n",
    "\n",
    "### 1. Set up notebook and import [CCAL](https://github.com/KwatME/ccal)"
   ]
  },
  {
   "cell_type": "code",
   "execution_count": 1,
   "metadata": {
    "ExecuteTime": {
     "end_time": "2017-10-11T22:07:46.768198Z",
     "start_time": "2017-10-11T22:07:44.862656Z"
    }
   },
   "outputs": [
    {
     "name": "stdout",
     "output_type": "stream",
     "text": [
      "Added '../tools' to the path.\n"
     ]
    }
   ],
   "source": [
    "from notebook_environment import *\n",
    "\n",
    "\n",
    "%load_ext autoreload\n",
    "%autoreload 2\n",
    "%matplotlib inline"
   ]
  },
  {
   "cell_type": "markdown",
   "metadata": {},
   "source": [
    "### 2. Read CCLE object and sample state labels"
   ]
  },
  {
   "cell_type": "code",
   "execution_count": 2,
   "metadata": {
    "ExecuteTime": {
     "end_time": "2017-10-11T22:07:57.825802Z",
     "start_time": "2017-10-11T22:07:49.291782Z"
    }
   },
   "outputs": [],
   "source": [
    "with gzip.open('../data/ccle.pickle.gz') as f:\n",
    "    CCLE = pickle.load(f)"
   ]
  },
  {
   "cell_type": "code",
   "execution_count": 3,
   "metadata": {
    "ExecuteTime": {
     "end_time": "2017-10-11T22:08:14.843207Z",
     "start_time": "2017-10-11T22:08:14.723601Z"
    },
    "scrolled": true
   },
   "outputs": [
    {
     "data": {
      "text/html": [
       "<div>\n",
       "<style>\n",
       "    .dataframe thead tr:only-child th {\n",
       "        text-align: right;\n",
       "    }\n",
       "\n",
       "    .dataframe thead th {\n",
       "        text-align: left;\n",
       "    }\n",
       "\n",
       "    .dataframe tbody tr th {\n",
       "        vertical-align: top;\n",
       "    }\n",
       "</style>\n",
       "<table border=\"1\" class=\"dataframe\">\n",
       "  <thead>\n",
       "    <tr style=\"text-align: right;\">\n",
       "      <th></th>\n",
       "      <th>A549_LUNG</th>\n",
       "      <th>AGS_STOMACH</th>\n",
       "      <th>ASPC1_PANCREAS</th>\n",
       "      <th>CAL62_THYROID</th>\n",
       "      <th>CALU1_LUNG</th>\n",
       "      <th>CALU6_LUNG</th>\n",
       "      <th>CAPAN1_PANCREAS</th>\n",
       "      <th>CAPAN2_PANCREAS</th>\n",
       "      <th>CFPAC1_PANCREAS</th>\n",
       "      <th>CL11_LARGE_INTESTINE</th>\n",
       "      <th>...</th>\n",
       "      <th>T3M10_LUNG</th>\n",
       "      <th>T3M4_PANCREAS</th>\n",
       "      <th>T84_LARGE_INTESTINE</th>\n",
       "      <th>TCCPAN2_PANCREAS</th>\n",
       "      <th>TEN_ENDOMETRIUM</th>\n",
       "      <th>TGBC11TKB_STOMACH</th>\n",
       "      <th>TOV21G_OVARY</th>\n",
       "      <th>UMUC3_URINARY_TRACT</th>\n",
       "      <th>YAPC_PANCREAS</th>\n",
       "      <th>YD8_UPPER_AERODIGESTIVE_TRACT</th>\n",
       "    </tr>\n",
       "  </thead>\n",
       "  <tbody>\n",
       "    <tr>\n",
       "      <th>State 1</th>\n",
       "      <td>0</td>\n",
       "      <td>0</td>\n",
       "      <td>0</td>\n",
       "      <td>0</td>\n",
       "      <td>0</td>\n",
       "      <td>0</td>\n",
       "      <td>1</td>\n",
       "      <td>1</td>\n",
       "      <td>1</td>\n",
       "      <td>0</td>\n",
       "      <td>...</td>\n",
       "      <td>1</td>\n",
       "      <td>1</td>\n",
       "      <td>0</td>\n",
       "      <td>0</td>\n",
       "      <td>0</td>\n",
       "      <td>0</td>\n",
       "      <td>0</td>\n",
       "      <td>0</td>\n",
       "      <td>1</td>\n",
       "      <td>0</td>\n",
       "    </tr>\n",
       "    <tr>\n",
       "      <th>State 2</th>\n",
       "      <td>0</td>\n",
       "      <td>1</td>\n",
       "      <td>0</td>\n",
       "      <td>0</td>\n",
       "      <td>0</td>\n",
       "      <td>0</td>\n",
       "      <td>0</td>\n",
       "      <td>0</td>\n",
       "      <td>0</td>\n",
       "      <td>1</td>\n",
       "      <td>...</td>\n",
       "      <td>0</td>\n",
       "      <td>0</td>\n",
       "      <td>1</td>\n",
       "      <td>0</td>\n",
       "      <td>1</td>\n",
       "      <td>1</td>\n",
       "      <td>0</td>\n",
       "      <td>0</td>\n",
       "      <td>0</td>\n",
       "      <td>0</td>\n",
       "    </tr>\n",
       "    <tr>\n",
       "      <th>State 3</th>\n",
       "      <td>1</td>\n",
       "      <td>0</td>\n",
       "      <td>0</td>\n",
       "      <td>0</td>\n",
       "      <td>0</td>\n",
       "      <td>0</td>\n",
       "      <td>0</td>\n",
       "      <td>0</td>\n",
       "      <td>0</td>\n",
       "      <td>0</td>\n",
       "      <td>...</td>\n",
       "      <td>0</td>\n",
       "      <td>0</td>\n",
       "      <td>0</td>\n",
       "      <td>0</td>\n",
       "      <td>0</td>\n",
       "      <td>0</td>\n",
       "      <td>1</td>\n",
       "      <td>0</td>\n",
       "      <td>0</td>\n",
       "      <td>0</td>\n",
       "    </tr>\n",
       "    <tr>\n",
       "      <th>State 4</th>\n",
       "      <td>0</td>\n",
       "      <td>0</td>\n",
       "      <td>1</td>\n",
       "      <td>1</td>\n",
       "      <td>1</td>\n",
       "      <td>1</td>\n",
       "      <td>0</td>\n",
       "      <td>0</td>\n",
       "      <td>0</td>\n",
       "      <td>0</td>\n",
       "      <td>...</td>\n",
       "      <td>0</td>\n",
       "      <td>0</td>\n",
       "      <td>0</td>\n",
       "      <td>1</td>\n",
       "      <td>0</td>\n",
       "      <td>0</td>\n",
       "      <td>0</td>\n",
       "      <td>1</td>\n",
       "      <td>0</td>\n",
       "      <td>1</td>\n",
       "    </tr>\n",
       "  </tbody>\n",
       "</table>\n",
       "<p>4 rows × 143 columns</p>\n",
       "</div>"
      ],
      "text/plain": [
       "         A549_LUNG  AGS_STOMACH  ASPC1_PANCREAS  CAL62_THYROID  CALU1_LUNG  \\\n",
       "State 1          0            0               0              0           0   \n",
       "State 2          0            1               0              0           0   \n",
       "State 3          1            0               0              0           0   \n",
       "State 4          0            0               1              1           1   \n",
       "\n",
       "         CALU6_LUNG  CAPAN1_PANCREAS  CAPAN2_PANCREAS  CFPAC1_PANCREAS  \\\n",
       "State 1           0                1                1                1   \n",
       "State 2           0                0                0                0   \n",
       "State 3           0                0                0                0   \n",
       "State 4           1                0                0                0   \n",
       "\n",
       "         CL11_LARGE_INTESTINE              ...                T3M10_LUNG  \\\n",
       "State 1                     0              ...                         1   \n",
       "State 2                     1              ...                         0   \n",
       "State 3                     0              ...                         0   \n",
       "State 4                     0              ...                         0   \n",
       "\n",
       "         T3M4_PANCREAS  T84_LARGE_INTESTINE  TCCPAN2_PANCREAS  \\\n",
       "State 1              1                    0                 0   \n",
       "State 2              0                    1                 0   \n",
       "State 3              0                    0                 0   \n",
       "State 4              0                    0                 1   \n",
       "\n",
       "         TEN_ENDOMETRIUM  TGBC11TKB_STOMACH  TOV21G_OVARY  \\\n",
       "State 1                0                  0             0   \n",
       "State 2                1                  1             0   \n",
       "State 3                0                  0             1   \n",
       "State 4                0                  0             0   \n",
       "\n",
       "         UMUC3_URINARY_TRACT  YAPC_PANCREAS  YD8_UPPER_AERODIGESTIVE_TRACT  \n",
       "State 1                    0              1                              0  \n",
       "State 2                    0              0                              0  \n",
       "State 3                    0              0                              0  \n",
       "State 4                    1              0                              1  \n",
       "\n",
       "[4 rows x 143 columns]"
      ]
     },
     "execution_count": 3,
     "metadata": {},
     "output_type": "execute_result"
    }
   ],
   "source": [
    "cs = pd.read_table('../output/hccs/hccs.txt', index_col=0)\n",
    "\n",
    "kras_sample_labels = cs.loc['K4']\n",
    "\n",
    "kras_sample_labels.name = 'State'\n",
    "\n",
    "state_x_sample = ccal.make_membership_df_from_categorical_series(\n",
    "    kras_sample_labels)\n",
    "state_x_sample.index = ['State {}'.format(i + 1) for i in state_x_sample.index]\n",
    "\n",
    "state_x_sample"
   ]
  },
  {
   "cell_type": "markdown",
   "metadata": {},
   "source": [
    "### 3. Annotate the states\n",
    "\n",
    "Here, each component is annotated with all the feature datasets using information-based association (IC). "
   ]
  },
  {
   "cell_type": "code",
   "execution_count": null,
   "metadata": {
    "ExecuteTime": {
     "end_time": "2017-10-11T01:33:02.639723Z",
     "start_time": "2017-10-11T01:14:37.917906Z"
    },
    "scrolled": true
   },
   "outputs": [],
   "source": [
    "for i, state in state_x_sample.iterrows():\n",
    "\n",
    "    for features_name, d in CCLE.items():\n",
    "\n",
    "        features_ = d['df']\n",
    "        emphasis = d['emphasis']\n",
    "        data_type = d['data_type']\n",
    "\n",
    "        print('Annotating with {} (emphasis={} & data_type={})'.format(\n",
    "            features_name, emphasis, data_type))\n",
    "\n",
    "#         ccal.make_match_panel(\n",
    "#             state,\n",
    "#             features_,\n",
    "#             n_jobs=16,\n",
    "#             n_features=20,\n",
    "#             n_samplings=3,\n",
    "#             n_permutations=3,\n",
    "#             scores_ascending=[True, False][emphasis == 'high'],\n",
    "#             features_type=data_type,\n",
    "#             title=features_name,\n",
    "#             file_path_prefix='../output/match_states/match_{}_and_{}'.format(\n",
    "#                 i, features_name))\n",
    "\n",
    "#         mpl.pyplot.show()"
   ]
  },
  {
   "cell_type": "markdown",
   "metadata": {},
   "source": [
    "### [Next chapter (7)](7 Display genomic features on Onco-GPS map.ipynb)"
   ]
  }
 ],
 "metadata": {
  "anaconda-cloud": {},
  "kernelspec": {
   "display_name": "Python [default]",
   "language": "python",
   "name": "python3"
  },
  "language_info": {
   "codemirror_mode": {
    "name": "ipython",
    "version": 3
   },
   "file_extension": ".py",
   "mimetype": "text/x-python",
   "name": "python",
   "nbconvert_exporter": "python",
   "pygments_lexer": "ipython3",
   "version": "3.6.3"
  }
 },
 "nbformat": 4,
 "nbformat_minor": 1
}
