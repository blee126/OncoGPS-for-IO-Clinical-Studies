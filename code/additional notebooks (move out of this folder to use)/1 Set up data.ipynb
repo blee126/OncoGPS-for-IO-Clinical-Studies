{
 "cells": [
  {
   "cell_type": "markdown",
   "metadata": {},
   "source": [
    "# Chapter 1: Set up data\n",
    "\n",
    "Before executing the following chapters, one dataset needs to be downloaded and some data needs to be modified slightly. To do this, please follow the steps below.\n",
    "\n",
    "## 1. Get gene dependencies dataset from the Achilles project website\n",
    "\n",
    "Watch [this quick video](https://www.youtube.com/watch?v=wj0cJC9-XYw&feature=youtu.be) or follow these steps:\n",
    "\n",
    "1. Go [here](https://portals.broadinstitute.org/achilles/users/sign_up) to make an account with Project Achilles.\n",
    "2. Confirm your email with the confirmation link in an email you'll receive from Project Achilles.\n",
    "3. Go [here](https://portals.broadinstitute.org/achilles/datasets/15/download) and click the \"ExpandedGeneZSolsCleaned.csv\" link to download the gene dependencies dataset\n",
    "4. Move the downloaded \"ExpandedGeneZSolsCleaned.csv\" file to the onco-gps-paper-analysis/data directory\n",
    "\n",
    "\n",
    "## 2. Prepare data\n",
    "\n",
    "Run all the cells below.\n",
    "\n",
    "### Set up notebook and import [CCAL](https://github.com/KwatME/ccal)"
   ]
  },
  {
   "cell_type": "code",
   "execution_count": 9,
   "metadata": {
    "ExecuteTime": {
     "end_time": "2018-02-24T02:13:45.772657Z",
     "start_time": "2018-02-24T02:13:43.809720Z"
    },
    "scrolled": false
   },
   "outputs": [
    {
     "name": "stdout",
     "output_type": "stream",
     "text": [
      "The autoreload extension is already loaded. To reload it, use:\n",
      "  %reload_ext autoreload\n"
     ]
    }
   ],
   "source": [
    "#from notebook_environment import *\n",
    "import matplotlib\n",
    "matplotlib.use('Agg')\n",
    "import matplotlib.pyplot as plt\n",
    "import copy\n",
    "import gzip\n",
    "import itertools\n",
    "import os\n",
    "import pickle\n",
    "import re\n",
    "import sys\n",
    "from collections import OrderedDict\n",
    "from pprint import pprint\n",
    "import matplotlib as mpl\n",
    "import numpy as np\n",
    "import pandas as pd\n",
    "import seaborn as sns\n",
    "import warnings\n",
    "warnings.filterwarnings('ignore')\n",
    "import ccal\n",
    "\n",
    "%load_ext autoreload\n",
    "%autoreload 2\n",
    "%matplotlib inline"
   ]
  },
  {
   "cell_type": "markdown",
   "metadata": {},
   "source": [
    "### Unzip and prepare datasets"
   ]
  },
  {
   "cell_type": "code",
   "execution_count": 12,
   "metadata": {
    "ExecuteTime": {
     "end_time": "2018-02-24T02:13:45.773637Z",
     "start_time": "2018-02-24T02:13:43.799Z"
    },
    "scrolled": true
   },
   "outputs": [
    {
     "ename": "FileNotFoundError",
     "evalue": "File b'../data/ExpandedGeneZSolsCleaned.csv' does not exist",
     "output_type": "error",
     "traceback": [
      "\u001b[0;31m---------------------------------------------------------------------------\u001b[0m",
      "\u001b[0;31mFileNotFoundError\u001b[0m                         Traceback (most recent call last)",
      "\u001b[0;32m<ipython-input-12-4240d7027370>\u001b[0m in \u001b[0;36m<module>\u001b[0;34m()\u001b[0m\n\u001b[1;32m     12\u001b[0m \u001b[0;34m\u001b[0m\u001b[0m\n\u001b[1;32m     13\u001b[0m \u001b[0;31m#Rename Achilles RNAi dataset\u001b[0m\u001b[0;34m\u001b[0m\u001b[0;34m\u001b[0m\u001b[0m\n\u001b[0;32m---> 14\u001b[0;31m \u001b[0mdf\u001b[0m \u001b[0;34m=\u001b[0m \u001b[0mpd\u001b[0m\u001b[0;34m.\u001b[0m\u001b[0mread_csv\u001b[0m\u001b[0;34m(\u001b[0m\u001b[0;34m'../data/ExpandedGeneZSolsCleaned.csv'\u001b[0m\u001b[0;34m,\u001b[0m \u001b[0mindex_col\u001b[0m\u001b[0;34m=\u001b[0m\u001b[0;36m0\u001b[0m\u001b[0;34m)\u001b[0m\u001b[0;34m\u001b[0m\u001b[0m\n\u001b[0m\u001b[1;32m     15\u001b[0m \u001b[0mccal\u001b[0m\u001b[0;34m.\u001b[0m\u001b[0mwrite_gct\u001b[0m\u001b[0;34m(\u001b[0m\u001b[0mdf\u001b[0m\u001b[0;34m,\u001b[0m \u001b[0;34m'../data/achilles__gene_x_ccle_cellline.gct'\u001b[0m\u001b[0;34m)\u001b[0m\u001b[0;34m\u001b[0m\u001b[0m\n\u001b[1;32m     16\u001b[0m \u001b[0;34m\u001b[0m\u001b[0m\n",
      "\u001b[0;32m/LJ/CompBio/share/work/common/tools/OncoGPS_cmdline/environment/lib/python3.6/site-packages/pandas/io/parsers.py\u001b[0m in \u001b[0;36mparser_f\u001b[0;34m(filepath_or_buffer, sep, delimiter, header, names, index_col, usecols, squeeze, prefix, mangle_dupe_cols, dtype, engine, converters, true_values, false_values, skipinitialspace, skiprows, nrows, na_values, keep_default_na, na_filter, verbose, skip_blank_lines, parse_dates, infer_datetime_format, keep_date_col, date_parser, dayfirst, iterator, chunksize, compression, thousands, decimal, lineterminator, quotechar, quoting, escapechar, comment, encoding, dialect, tupleize_cols, error_bad_lines, warn_bad_lines, skipfooter, doublequote, delim_whitespace, low_memory, memory_map, float_precision)\u001b[0m\n\u001b[1;32m    676\u001b[0m                     skip_blank_lines=skip_blank_lines)\n\u001b[1;32m    677\u001b[0m \u001b[0;34m\u001b[0m\u001b[0m\n\u001b[0;32m--> 678\u001b[0;31m         \u001b[0;32mreturn\u001b[0m \u001b[0m_read\u001b[0m\u001b[0;34m(\u001b[0m\u001b[0mfilepath_or_buffer\u001b[0m\u001b[0;34m,\u001b[0m \u001b[0mkwds\u001b[0m\u001b[0;34m)\u001b[0m\u001b[0;34m\u001b[0m\u001b[0m\n\u001b[0m\u001b[1;32m    679\u001b[0m \u001b[0;34m\u001b[0m\u001b[0m\n\u001b[1;32m    680\u001b[0m     \u001b[0mparser_f\u001b[0m\u001b[0;34m.\u001b[0m\u001b[0m__name__\u001b[0m \u001b[0;34m=\u001b[0m \u001b[0mname\u001b[0m\u001b[0;34m\u001b[0m\u001b[0m\n",
      "\u001b[0;32m/LJ/CompBio/share/work/common/tools/OncoGPS_cmdline/environment/lib/python3.6/site-packages/pandas/io/parsers.py\u001b[0m in \u001b[0;36m_read\u001b[0;34m(filepath_or_buffer, kwds)\u001b[0m\n\u001b[1;32m    438\u001b[0m \u001b[0;34m\u001b[0m\u001b[0m\n\u001b[1;32m    439\u001b[0m     \u001b[0;31m# Create the parser.\u001b[0m\u001b[0;34m\u001b[0m\u001b[0;34m\u001b[0m\u001b[0m\n\u001b[0;32m--> 440\u001b[0;31m     \u001b[0mparser\u001b[0m \u001b[0;34m=\u001b[0m \u001b[0mTextFileReader\u001b[0m\u001b[0;34m(\u001b[0m\u001b[0mfilepath_or_buffer\u001b[0m\u001b[0;34m,\u001b[0m \u001b[0;34m**\u001b[0m\u001b[0mkwds\u001b[0m\u001b[0;34m)\u001b[0m\u001b[0;34m\u001b[0m\u001b[0m\n\u001b[0m\u001b[1;32m    441\u001b[0m \u001b[0;34m\u001b[0m\u001b[0m\n\u001b[1;32m    442\u001b[0m     \u001b[0;32mif\u001b[0m \u001b[0mchunksize\u001b[0m \u001b[0;32mor\u001b[0m \u001b[0miterator\u001b[0m\u001b[0;34m:\u001b[0m\u001b[0;34m\u001b[0m\u001b[0m\n",
      "\u001b[0;32m/LJ/CompBio/share/work/common/tools/OncoGPS_cmdline/environment/lib/python3.6/site-packages/pandas/io/parsers.py\u001b[0m in \u001b[0;36m__init__\u001b[0;34m(self, f, engine, **kwds)\u001b[0m\n\u001b[1;32m    785\u001b[0m             \u001b[0mself\u001b[0m\u001b[0;34m.\u001b[0m\u001b[0moptions\u001b[0m\u001b[0;34m[\u001b[0m\u001b[0;34m'has_index_names'\u001b[0m\u001b[0;34m]\u001b[0m \u001b[0;34m=\u001b[0m \u001b[0mkwds\u001b[0m\u001b[0;34m[\u001b[0m\u001b[0;34m'has_index_names'\u001b[0m\u001b[0;34m]\u001b[0m\u001b[0;34m\u001b[0m\u001b[0m\n\u001b[1;32m    786\u001b[0m \u001b[0;34m\u001b[0m\u001b[0m\n\u001b[0;32m--> 787\u001b[0;31m         \u001b[0mself\u001b[0m\u001b[0;34m.\u001b[0m\u001b[0m_make_engine\u001b[0m\u001b[0;34m(\u001b[0m\u001b[0mself\u001b[0m\u001b[0;34m.\u001b[0m\u001b[0mengine\u001b[0m\u001b[0;34m)\u001b[0m\u001b[0;34m\u001b[0m\u001b[0m\n\u001b[0m\u001b[1;32m    788\u001b[0m \u001b[0;34m\u001b[0m\u001b[0m\n\u001b[1;32m    789\u001b[0m     \u001b[0;32mdef\u001b[0m \u001b[0mclose\u001b[0m\u001b[0;34m(\u001b[0m\u001b[0mself\u001b[0m\u001b[0;34m)\u001b[0m\u001b[0;34m:\u001b[0m\u001b[0;34m\u001b[0m\u001b[0m\n",
      "\u001b[0;32m/LJ/CompBio/share/work/common/tools/OncoGPS_cmdline/environment/lib/python3.6/site-packages/pandas/io/parsers.py\u001b[0m in \u001b[0;36m_make_engine\u001b[0;34m(self, engine)\u001b[0m\n\u001b[1;32m   1012\u001b[0m     \u001b[0;32mdef\u001b[0m \u001b[0m_make_engine\u001b[0m\u001b[0;34m(\u001b[0m\u001b[0mself\u001b[0m\u001b[0;34m,\u001b[0m \u001b[0mengine\u001b[0m\u001b[0;34m=\u001b[0m\u001b[0;34m'c'\u001b[0m\u001b[0;34m)\u001b[0m\u001b[0;34m:\u001b[0m\u001b[0;34m\u001b[0m\u001b[0m\n\u001b[1;32m   1013\u001b[0m         \u001b[0;32mif\u001b[0m \u001b[0mengine\u001b[0m \u001b[0;34m==\u001b[0m \u001b[0;34m'c'\u001b[0m\u001b[0;34m:\u001b[0m\u001b[0;34m\u001b[0m\u001b[0m\n\u001b[0;32m-> 1014\u001b[0;31m             \u001b[0mself\u001b[0m\u001b[0;34m.\u001b[0m\u001b[0m_engine\u001b[0m \u001b[0;34m=\u001b[0m \u001b[0mCParserWrapper\u001b[0m\u001b[0;34m(\u001b[0m\u001b[0mself\u001b[0m\u001b[0;34m.\u001b[0m\u001b[0mf\u001b[0m\u001b[0;34m,\u001b[0m \u001b[0;34m**\u001b[0m\u001b[0mself\u001b[0m\u001b[0;34m.\u001b[0m\u001b[0moptions\u001b[0m\u001b[0;34m)\u001b[0m\u001b[0;34m\u001b[0m\u001b[0m\n\u001b[0m\u001b[1;32m   1015\u001b[0m         \u001b[0;32melse\u001b[0m\u001b[0;34m:\u001b[0m\u001b[0;34m\u001b[0m\u001b[0m\n\u001b[1;32m   1016\u001b[0m             \u001b[0;32mif\u001b[0m \u001b[0mengine\u001b[0m \u001b[0;34m==\u001b[0m \u001b[0;34m'python'\u001b[0m\u001b[0;34m:\u001b[0m\u001b[0;34m\u001b[0m\u001b[0m\n",
      "\u001b[0;32m/LJ/CompBio/share/work/common/tools/OncoGPS_cmdline/environment/lib/python3.6/site-packages/pandas/io/parsers.py\u001b[0m in \u001b[0;36m__init__\u001b[0;34m(self, src, **kwds)\u001b[0m\n\u001b[1;32m   1706\u001b[0m         \u001b[0mkwds\u001b[0m\u001b[0;34m[\u001b[0m\u001b[0;34m'usecols'\u001b[0m\u001b[0;34m]\u001b[0m \u001b[0;34m=\u001b[0m \u001b[0mself\u001b[0m\u001b[0;34m.\u001b[0m\u001b[0musecols\u001b[0m\u001b[0;34m\u001b[0m\u001b[0m\n\u001b[1;32m   1707\u001b[0m \u001b[0;34m\u001b[0m\u001b[0m\n\u001b[0;32m-> 1708\u001b[0;31m         \u001b[0mself\u001b[0m\u001b[0;34m.\u001b[0m\u001b[0m_reader\u001b[0m \u001b[0;34m=\u001b[0m \u001b[0mparsers\u001b[0m\u001b[0;34m.\u001b[0m\u001b[0mTextReader\u001b[0m\u001b[0;34m(\u001b[0m\u001b[0msrc\u001b[0m\u001b[0;34m,\u001b[0m \u001b[0;34m**\u001b[0m\u001b[0mkwds\u001b[0m\u001b[0;34m)\u001b[0m\u001b[0;34m\u001b[0m\u001b[0m\n\u001b[0m\u001b[1;32m   1709\u001b[0m \u001b[0;34m\u001b[0m\u001b[0m\n\u001b[1;32m   1710\u001b[0m         \u001b[0mpassed_names\u001b[0m \u001b[0;34m=\u001b[0m \u001b[0mself\u001b[0m\u001b[0;34m.\u001b[0m\u001b[0mnames\u001b[0m \u001b[0;32mis\u001b[0m \u001b[0;32mNone\u001b[0m\u001b[0;34m\u001b[0m\u001b[0m\n",
      "\u001b[0;32mpandas/_libs/parsers.pyx\u001b[0m in \u001b[0;36mpandas._libs.parsers.TextReader.__cinit__\u001b[0;34m()\u001b[0m\n",
      "\u001b[0;32mpandas/_libs/parsers.pyx\u001b[0m in \u001b[0;36mpandas._libs.parsers.TextReader._setup_parser_source\u001b[0;34m()\u001b[0m\n",
      "\u001b[0;31mFileNotFoundError\u001b[0m: File b'../data/ExpandedGeneZSolsCleaned.csv' does not exist"
     ]
    }
   ],
   "source": [
    "# Unzip data\n",
    "#ccal.unzip('../data/CTRPv2.2_2015_pub_CancerDisc_5_1210.zip')\n",
    "ccal.unzip('../data/gene_set__gene_set_x_ccle_cellline.gct.zip')\n",
    "#ccal.unzip('../data/CCLE_MUT_EXPR_RPPA_OncoGPS.zip')\n",
    "#for fn in [\n",
    "        #'mutation__gene_x_ccle_cellline.gct',\n",
    "        #'rpkm__gene_x_ccle_cellline.gct',\n",
    "        #'rppa__protein_x_ccle_cellline.gct',\n",
    "        #'annotation__feature_x_ccle_cellline.gct',\n",
    "#]:\n",
    "    #shutil.move('../data/CCLE_datasets/{0}'.format(fn), '../data/{0}'.format(fn))\n",
    "\n",
    "#Rename Achilles RNAi dataset\n",
    "#df = pd.read_csv('../data/ExpandedGeneZSolsCleaned.csv', index_col=0)\n",
    "#ccal.write_gct(df, '../data/achilles__gene_x_ccle_cellline.gct')\n",
    "\n",
    "# Read compound data\n",
    "auc = pd.read_table('../data/v22.data.auc_sensitivities.txt')\n",
    "print(auc.shape)\n",
    "\n",
    "cpd = pd.read_table('../data/v22.meta.per_compound.txt', index_col=0)\n",
    "print(cpd.shape)\n",
    "\n",
    "ccl = pd.read_table('../data/v22.meta.per_cell_line.txt', index_col=0)\n",
    "print(ccl.shape)\n",
    "\n",
    "# Make dict for faster ID-to-name look up\n",
    "cpd_d = cpd['cpd_name'].to_dict()\n",
    "ccl_d = ccl['ccl_name'].to_dict()\n",
    "\n",
    "# Make empty compound-x-cellline matrix\n",
    "compound_x_cellline = pd.DataFrame(\n",
    "    index=sorted(set(cpd['cpd_name'])), columns=sorted(set(ccl['ccl_name'])))\n",
    "print(compound_x_cellline.shape)\n",
    "\n",
    "# Populate compound-x-cellline matrix\n",
    "for i, (i_cpd, i_ccl, a) in auc.iterrows():\n",
    "\n",
    "    # Get compound name\n",
    "    cpd_n = cpd_d[i_cpd]\n",
    "\n",
    "    # Get cellline name\n",
    "    ccl_n = ccl_d[i_ccl]\n",
    "\n",
    "    # Get current AUC\n",
    "    a_ = compound_x_cellline.loc[cpd_n, ccl_n]\n",
    "\n",
    "    # If the current AUC is not set, set with this AUC\n",
    "    if pd.isnull(a_):\n",
    "        compound_x_cellline.loc[cpd_n, ccl_n] = a\n",
    "\n",
    "    # If this AUC is smaller than the current AUC, set with this AUC\n",
    "    elif a < a_:\n",
    "\n",
    "        print('Updating AUC of compound {} on cellline {}: {:.3f} ==> {:.3f}'.\n",
    "              format(cpd_n, ccl_n, a_, a))\n",
    "\n",
    "        compound_x_cellline.loc[cpd_n, ccl_n] = a\n",
    "\n",
    "# Update cellline names to match CCLE cellline names\n",
    "columns = list(compound_x_cellline.columns)\n",
    "\n",
    "# Read CCLE cellline annotations\n",
    "a = pd.read_table('../data/CCLE_sample_info_file_2012-10-18.txt', index_col=0)\n",
    "\n",
    "# Get CCLE cellline names\n",
    "for i, ccl_n in enumerate(compound_x_cellline.columns):\n",
    "\n",
    "    matches = []\n",
    "\n",
    "    for ccle_n in a.index:\n",
    "        if ccl_n.lower() == ccle_n.lower().split('_')[0]:\n",
    "            matches.append(ccle_n)\n",
    "\n",
    "    if 0 == len(matches):\n",
    "        print('0 match: {}; matching substring ...'.format(ccl_n))\n",
    "\n",
    "        for ccle_n in a.index:\n",
    "\n",
    "            if ccl_n.lower() in ccle_n.lower():\n",
    "\n",
    "                print('\\t{} ==> {}.'.format(ccl_n, ccle_n))\n",
    "                matches.append(ccle_n)\n",
    "\n",
    "    if 1 == len(matches):\n",
    "\n",
    "        print('{} ==> {}.'.format(ccl_n, matches[0]))\n",
    "        columns[i] = matches[0]\n",
    "\n",
    "    else:\n",
    "        print('1 < matches: {} ==> {}'.format(ccl_n, matches))\n",
    "\n",
    "# Update with CCLE cellline names\n",
    "compound_x_cellline.columns = columns\n",
    "\n",
    "# Write .gct file\n",
    "ccal.write_gct(compound_x_cellline,\n",
    "               '../data/ctd2__compound_x_ccle_cellline.gct')\n",
    "\n",
    "compound_x_cellline"
   ]
  },
  {
   "cell_type": "markdown",
   "metadata": {},
   "source": [
    "### Check that all datasets exist\n",
    "\n",
    "If you get an error running the cell below, get the dataset the error says you're missing, and run it again."
   ]
  },
  {
   "cell_type": "code",
   "execution_count": null,
   "metadata": {
    "ExecuteTime": {
     "end_time": "2018-02-24T02:13:45.775337Z",
     "start_time": "2018-02-24T02:13:43.804Z"
    }
   },
   "outputs": [],
   "source": [
    "for fn in [\n",
    "        'gene_x_kras_isogenic_and_imortalized_celllines.gct',\n",
    "        'mutation__gene_x_ccle_cellline.gct',\n",
    "        'rpkm__gene_x_ccle_cellline.gct',\n",
    "        'gene_set__gene_set_x_ccle_cellline.gct',\n",
    "        'regulator__gene_set_x_ccle_cellline.gct',\n",
    "        'rppa__protein_x_ccle_cellline.gct',\n",
    "        'achilles__gene_x_ccle_cellline.gct',\n",
    "        'ctd2__compound_x_ccle_cellline.gct',\n",
    "        'annotation__feature_x_ccle_cellline.gct',\n",
    "]:\n",
    "    assert fn in os.listdir('../data'), 'Missing {}!'.format(fn)"
   ]
  },
  {
   "cell_type": "markdown",
   "metadata": {},
   "source": [
    "### Make the CCLE data object"
   ]
  },
  {
   "cell_type": "code",
   "execution_count": null,
   "metadata": {
    "ExecuteTime": {
     "end_time": "2018-02-24T02:13:45.778987Z",
     "start_time": "2018-02-24T02:13:43.807Z"
    }
   },
   "outputs": [],
   "source": [
    "# Make the CCLE data object used in coming chapters.\n",
    "\n",
    "ccle = {\n",
    "    'Mutation': {\n",
    "        'df': ccal.read_gct('../data/mutation__gene_x_ccle_cellline.gct'),\n",
    "        'emphasis': 'high',\n",
    "        'data_type': 'binary'\n",
    "    },\n",
    "    'Gene Expression': {\n",
    "        'df': ccal.read_gct('../data/rpkm__gene_x_ccle_cellline.gct'),\n",
    "        'emphasis': 'high',\n",
    "        'data_type': 'continuous'\n",
    "    },\n",
    "    'Gene Set': {\n",
    "        'df': ccal.read_gct('../data/gene_set__gene_set_x_ccle_cellline.gct'),\n",
    "        'emphasis': 'high',\n",
    "        'data_type': 'continuous'\n",
    "    },\n",
    "    'Regulator Gene Set': {\n",
    "        'df': ccal.read_gct('../data/regulator__gene_set_x_ccle_cellline.gct'),\n",
    "        'emphasis': 'high',\n",
    "        'data_type': 'continuous'\n",
    "    },\n",
    "    'Protein Expression': {\n",
    "        'df': ccal.read_gct('../data/rppa__protein_x_ccle_cellline.gct'),\n",
    "        'emphasis': 'high',\n",
    "        'data_type': 'continuous'\n",
    "    },\n",
    "    'Gene Dependency (Achilles)': {\n",
    "        'df': ccal.read_gct('../data/achilles__gene_x_ccle_cellline.gct'),\n",
    "        'emphasis': 'low',\n",
    "        'data_type': 'continuous'\n",
    "    },\n",
    "    'Drug Sensitivity (CTD^2)': {\n",
    "        'df': ccal.read_gct('../data/ctd2__compound_x_ccle_cellline.gct'),\n",
    "        'emphasis': 'low',\n",
    "        'data_type': 'continuous'\n",
    "    },\n",
    "    'Primary Site': {\n",
    "        'df':\n",
    "        ccal.make_membership_df_from_categorical_series(\n",
    "            ccal.read_gct('../data/annotation__feature_x_ccle_cellline.gct')\n",
    "            .loc['Site Primary']),\n",
    "        'emphasis':\n",
    "        'high',\n",
    "        'data_type':\n",
    "        'binary'\n",
    "    }\n",
    "}\n",
    "\n",
    "with gzip.open('../data/ccle.pickle.gz', 'wb') as f:\n",
    "\n",
    "    pickle.dump(ccle, f)"
   ]
  },
  {
   "cell_type": "markdown",
   "metadata": {},
   "source": [
    "### [Next chapter(2)](2 Generate oncogenic-activation signature.ipynb)"
   ]
  }
 ],
 "metadata": {
  "kernelspec": {
   "display_name": "Python 3",
   "language": "python",
   "name": "python3"
  },
  "language_info": {
   "codemirror_mode": {
    "name": "ipython",
    "version": 3
   },
   "file_extension": ".py",
   "mimetype": "text/x-python",
   "name": "python",
   "nbconvert_exporter": "python",
   "pygments_lexer": "ipython3",
   "version": "3.6.4"
  }
 },
 "nbformat": 4,
 "nbformat_minor": 2
}
