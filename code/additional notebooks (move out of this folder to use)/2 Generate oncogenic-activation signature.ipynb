{
 "cells": [
  {
   "cell_type": "markdown",
   "metadata": {},
   "source": [
    "# Chapter 2:  Generate oncogenic-activation signature\n",
    "\n",
    "<br>\n",
    "<div>\n",
    "    <img src=\"../media/method_chap1.png\" width=2144 height=1041>\n",
    "</div>\n",
    "\n",
    "### Analysis overview\n",
    "\n",
    "In this chapter we will execute the first step in the Onco-GPS methodology: generating the oncogenic activation signature.\n",
    "\n",
    "The Onco-GPS method makes use of a signature from an isogenic system that provides clean and direct transcriptional information relevant to the transcriptional changes associated with the activation of an oncogene; while at the same time incorporating diverse regulatory circuits inherently represented across multiple cellular contexts in a reference dataset. This deconvolves the functional consequences of oncogene activation in a more direct and unambiguous way. \n",
    "\n",
    "In this notebook we will generate a KRAS signature based on RNASeq profiling of lentiviral constructs of KRAS mut G12 vs. controls in lung SALE epithelial cell lines. We performed pilot experiments to identify optimal set of conditions (time, viral titer) to carry out the  experiments. This KRAS signature will contain the set of top 1,000 differentially expressed genes, (top 500, bottom 500), according to the Information Coefficient (IC).  The Information Coefficient (IC) ([*Linfoot 1957*](http://www.sciencedirect.com/science/article/pii/S001999585790116X); [*Joe 1989*](https://www.jstor.org/stable/2289859?seq=1#page_scan_tab_contents); [*Kim, J.W., Botvinnik 2016*](https://www.ncbi.nlm.nih.gov/pmc/articles/PMC4868596/)) is a normalized version of the mutual information defined as,\n",
    "\n",
    "<p>\n",
    "<div>\n",
    "    <img src=\"../media/equation_chapter_2_1.png\" width=300 height=50>\n",
    "</div>\n",
    "\n",
    "where $I(x, y)$  is the differential mutual information between $x$, the KRAS mut vs. cntrl binary phenotype, and $y$, the expression profile for each gene. This quantity  lies in the range [-1, 1], in analogy with the correlation coefficient. The sign of the correlation coefficient $\\rho(x, y)$ is used to provide directionality. The differential [mutual Information](https://en.wikipedia.org/wiki/Mutual_information) $I(x, y)$  is a function of the ratio of joint and marginal probabilities, \n",
    "\n",
    "<p>\n",
    "<div>\n",
    "    <img src=\"../media/equation_chapter_2_2.png\" width=450 height=50>\n",
    "</div>\n",
    "\n",
    "The $H(x,y)$, $H(x)$ and $H(y)$ are the joint and marginal [entropies](https://en.wikipedia.org/wiki/Entropy_(information_theory). Estimating the mutual information between a phenotype and gene expression profiles requires the empirical approximation of continuous probability density distributions using kernel [density estimators](https://en.wikipedia.org/wiki/Density_estimation) ([*Sheather 2004*](http://www.stat.washington.edu/courses/stat527/s13/readings/Sheather_StatSci_2004.pdf)).\n",
    "\n",
    "\n",
    "### 1. Set up notebook and import [CCAL](https://github.com/KwatME/ccal)"
   ]
  },
  {
   "cell_type": "code",
   "execution_count": 2,
   "metadata": {
    "ExecuteTime": {
     "end_time": "2017-10-11T21:27:06.643757Z",
     "start_time": "2017-10-11T21:27:06.591419Z"
    }
   },
   "outputs": [
    {
     "name": "stdout",
     "output_type": "stream",
     "text": [
      "Added '../tools' to the path.\n"
     ]
    }
   ],
   "source": [
    "from notebook_environment import *\n",
    "\n",
    "\n",
    "%load_ext autoreload\n",
    "%autoreload 2\n",
    "%matplotlib inline"
   ]
  },
  {
   "cell_type": "markdown",
   "metadata": {},
   "source": [
    "### 2. Read gene expression dataset"
   ]
  },
  {
   "cell_type": "code",
   "execution_count": 3,
   "metadata": {
    "ExecuteTime": {
     "end_time": "2017-10-11T21:27:07.144416Z",
     "start_time": "2017-10-11T21:27:06.982121Z"
    }
   },
   "outputs": [],
   "source": [
    "gene_x_kras_isogenic_and_imortalized_celllines = ccal.read_gct(\n",
    "    '../data/gene_x_kras_isogenic_and_imortalized_celllines.gct')\n",
    "\n",
    "gene_x_kras_isogenic_and_imortalized_celllines.index.name = 'Gene'\n",
    "gene_x_kras_isogenic_and_imortalized_celllines.columns.name = 'Cellline'"
   ]
  },
  {
   "cell_type": "markdown",
   "metadata": {},
   "source": [
    "### 3. Define KRAS mut vs. cntrl phenotype\n",
    "This is a vector of 1 and -1 indicating which samples are KRAS mut and which are controls."
   ]
  },
  {
   "cell_type": "code",
   "execution_count": 4,
   "metadata": {
    "ExecuteTime": {
     "start_time": "2017-10-11T21:27:07.346Z"
    },
    "scrolled": false
   },
   "outputs": [],
   "source": [
    "target = pd.Series(\n",
    "    [1] * 6 + [-1] * 4,\n",
    "    name='KRAS Mutants vs Controls',\n",
    "    index=gene_x_kras_isogenic_and_imortalized_celllines.columns)"
   ]
  },
  {
   "cell_type": "markdown",
   "metadata": {},
   "source": [
    "### 4. Find top differentially expressed genes between KRAS mutants and control\n",
    "\n",
    "The function below computes the association between the phenotype (KRAS mut vs. cntrl) and the gene expression profiles as described in the introduction above. At completion this function will produce a heatmap (SIGNATURE.pdf) and a text file (SIGNATURE.txt) where the genes have been sorted by their association with the phenotype as measured by the IC. This computation takes a few hours and therefore it is desirable to run overnight."
   ]
  },
  {
   "cell_type": "code",
   "execution_count": null,
   "metadata": {
    "scrolled": true
   },
   "outputs": [],
   "source": [
    "# gene_scores = ccal.make_match_panel(\n",
    "#     target,\n",
    "#     gene_x_kras_isogenic_and_imortalized_celllines,\n",
    "#     n_jobs=28,\n",
    "#     n_features=20,\n",
    "#     n_permutations=200,\n",
    "#     random_seed=12345,\n",
    "#     target_type='binary',\n",
    "#     file_path_prefix='../output/kras_isogenic_and_imortalized_celllines')"
   ]
  },
  {
   "cell_type": "markdown",
   "metadata": {},
   "source": [
    "### 5. Generate oncogenic signature by selecting top and bottom 500 genes\n",
    "\n",
    "The heatmap produced below is shown on the left of Fig 3 in the article."
   ]
  },
  {
   "cell_type": "code",
   "execution_count": null,
   "metadata": {
    "ExecuteTime": {
     "end_time": "2017-10-11T20:04:23.885340Z",
     "start_time": "2017-10-11T20:04:22.338660Z"
    },
    "scrolled": true
   },
   "outputs": [],
   "source": [
    "kras_relevant_genes = ccal.get_top_and_bottom_series_indices(\n",
    "    gene_scores['Score'], 500).to_series()\n",
    "kras_relevant_genes.name = 'KRAS Relevant Genes'\n",
    "\n",
    "kras_relevant_genes.to_csv(\n",
    "    '../output/kras_relevant_genes.txt', index=False, header=True)\n",
    "\n",
    "ccal.plot_heatmap(\n",
    "    gene_x_kras_isogenic_and_imortalized_celllines.loc[kras_relevant_genes, :],\n",
    "    normalization_axis=1,\n",
    "    normalization_method='-0-',\n",
    "    xticklabels=True,\n",
    "    column_annotation=[1, 1, 1, 1, 1, 1, -1, -1, -1, -1],\n",
    "    title='KRAS Oncogenic Activation Signature')"
   ]
  },
  {
   "cell_type": "markdown",
   "metadata": {},
   "source": [
    "### [Next chapter (3)](3 Decompose oncogenic-activation signature and define transcriptional components.ipynb)"
   ]
  }
 ],
 "metadata": {
  "anaconda-cloud": {},
  "kernelspec": {
   "display_name": "Python [default]",
   "language": "python",
   "name": "python3"
  },
  "language_info": {
   "codemirror_mode": {
    "name": "ipython",
    "version": 3
   },
   "file_extension": ".py",
   "mimetype": "text/x-python",
   "name": "python",
   "nbconvert_exporter": "python",
   "pygments_lexer": "ipython3",
   "version": "3.6.3"
  }
 },
 "nbformat": 4,
 "nbformat_minor": 1
}
